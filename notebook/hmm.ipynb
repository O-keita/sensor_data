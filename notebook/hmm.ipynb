{
 "cells": [
  {
   "cell_type": "code",
   "execution_count": 13,
   "id": "93140b06",
   "metadata": {},
   "outputs": [],
   "source": [
    "import pandas as pd\n",
    "import numpy as np\n",
    "from sklearn.model_selection import train_test_split\n",
    "from sklearn.preprocessing import StandardScaler\n",
    "from scipy.stats import multivariate_normal"
   ]
  },
  {
   "cell_type": "code",
   "execution_count": 2,
   "id": "706a0ad7",
   "metadata": {},
   "outputs": [],
   "source": [
    "df = pd.read_csv('../data/features/features.csv')"
   ]
  },
  {
   "cell_type": "code",
   "execution_count": 3,
   "id": "80b5f614",
   "metadata": {},
   "outputs": [
    {
     "name": "stdout",
     "output_type": "stream",
     "text": [
      "columns: ['accel_x_mean', 'accel_x_std', 'accel_x_var', 'accel_x_mad', 'accel_y_mean', 'accel_y_std', 'accel_y_var', 'accel_y_mad', 'accel_z_mean', 'accel_z_std', 'accel_z_var', 'accel_z_mad', 'accel_xy_corr', 'accel_xz_corr', 'accel_yz_corr', 'accel_sma', 'accel_x_dom_freq', 'accel_x_spec_energy', 'accel_x_fft_top1_mag', 'accel_x_fft_top1_freq', 'accel_x_fft_top2_mag', 'accel_x_fft_top2_freq', 'accel_x_fft_top3_mag', 'accel_x_fft_top3_freq', 'accel_y_dom_freq', 'accel_y_spec_energy', 'accel_y_fft_top1_mag', 'accel_y_fft_top1_freq', 'accel_y_fft_top2_mag', 'accel_y_fft_top2_freq', 'accel_y_fft_top3_mag', 'accel_y_fft_top3_freq', 'accel_z_dom_freq', 'accel_z_spec_energy', 'accel_z_fft_top1_mag', 'accel_z_fft_top1_freq', 'accel_z_fft_top2_mag', 'accel_z_fft_top2_freq', 'accel_z_fft_top3_mag', 'accel_z_fft_top3_freq', 'gyro_x_mean', 'gyro_x_std', 'gyro_x_var', 'gyro_x_mad', 'gyro_y_mean', 'gyro_y_std', 'gyro_y_var', 'gyro_y_mad', 'gyro_z_mean', 'gyro_z_std', 'gyro_z_var', 'gyro_z_mad', 'gyro_xy_corr', 'gyro_xz_corr', 'gyro_yz_corr', 'gyro_sma', 'gyro_x_dom_freq', 'gyro_x_spec_energy', 'gyro_x_fft_top1_mag', 'gyro_x_fft_top1_freq', 'gyro_x_fft_top2_mag', 'gyro_x_fft_top2_freq', 'gyro_x_fft_top3_mag', 'gyro_x_fft_top3_freq', 'gyro_y_dom_freq', 'gyro_y_spec_energy', 'gyro_y_fft_top1_mag', 'gyro_y_fft_top1_freq', 'gyro_y_fft_top2_mag', 'gyro_y_fft_top2_freq', 'gyro_y_fft_top3_mag', 'gyro_y_fft_top3_freq', 'gyro_z_dom_freq', 'gyro_z_spec_energy', 'gyro_z_fft_top1_mag', 'gyro_z_fft_top1_freq', 'gyro_z_fft_top2_mag', 'gyro_z_fft_top2_freq', 'gyro_z_fft_top3_mag', 'gyro_z_fft_top3_freq', 'acc_res_mean', 'acc_res_std', 'acc_res_var', 'acc_res_sma', 'acc_res_dom_freq', 'acc_res_spec_energy', 'acc_res_fft_top1_mag', 'acc_res_fft_top1_freq', 'acc_res_fft_top2_mag', 'acc_res_fft_top2_freq', 'acc_res_fft_top3_mag', 'acc_res_fft_top3_freq', 'activity', 'start_time']\n",
      "rows: 948\n",
      "activities: ['jumping' 'standing' 'still' 'walking']\n",
      "start_time unique count: 948  /  948\n",
      "start_time value counts (top 5):\n",
      "start_time\n",
      "1.761134e+09    1\n",
      "1.761134e+09    1\n",
      "1.761134e+09    1\n",
      "1.761134e+09    1\n",
      "1.761134e+09    1\n",
      "Name: count, dtype: int64\n"
     ]
    }
   ],
   "source": [
    "print(\"columns:\", df.columns.tolist())\n",
    "print(\"rows:\", len(df))\n",
    "print(\"activities:\", df[\"activity\"].unique())\n",
    "print(\"start_time unique count:\", df[\"start_time\"].nunique(), \" / \", len(df))\n",
    "print(\"start_time value counts (top 5):\")\n",
    "print(df[\"start_time\"].value_counts().head())"
   ]
  },
  {
   "cell_type": "code",
   "execution_count": 4,
   "id": "583f8d0d",
   "metadata": {},
   "outputs": [],
   "source": [
    "ts = df[\"start_time\"].to_numpy().astype(float)\n",
    "threshold = 2.0\n",
    "gaps = np.diff(ts) > threshold\n",
    "sess_id = np.concatenate(([0], 1 + np.cumsum(gaps)))\n",
    "df[\"session_id\"] = sess_id"
   ]
  },
  {
   "cell_type": "code",
   "execution_count": 5,
   "id": "699d4c2e",
   "metadata": {},
   "outputs": [
    {
     "data": {
      "text/plain": [
       "Index(['accel_x_mean', 'accel_x_std', 'accel_x_var', 'accel_x_mad',\n",
       "       'accel_y_mean', 'accel_y_std', 'accel_y_var', 'accel_y_mad',\n",
       "       'accel_z_mean', 'accel_z_std', 'accel_z_var', 'accel_z_mad',\n",
       "       'accel_xy_corr', 'accel_xz_corr', 'accel_yz_corr', 'accel_sma',\n",
       "       'accel_x_dom_freq', 'accel_x_spec_energy', 'accel_x_fft_top1_mag',\n",
       "       'accel_x_fft_top1_freq', 'accel_x_fft_top2_mag',\n",
       "       'accel_x_fft_top2_freq', 'accel_x_fft_top3_mag',\n",
       "       'accel_x_fft_top3_freq', 'accel_y_dom_freq', 'accel_y_spec_energy',\n",
       "       'accel_y_fft_top1_mag', 'accel_y_fft_top1_freq', 'accel_y_fft_top2_mag',\n",
       "       'accel_y_fft_top2_freq', 'accel_y_fft_top3_mag',\n",
       "       'accel_y_fft_top3_freq', 'accel_z_dom_freq', 'accel_z_spec_energy',\n",
       "       'accel_z_fft_top1_mag', 'accel_z_fft_top1_freq', 'accel_z_fft_top2_mag',\n",
       "       'accel_z_fft_top2_freq', 'accel_z_fft_top3_mag',\n",
       "       'accel_z_fft_top3_freq', 'gyro_x_mean', 'gyro_x_std', 'gyro_x_var',\n",
       "       'gyro_x_mad', 'gyro_y_mean', 'gyro_y_std', 'gyro_y_var', 'gyro_y_mad',\n",
       "       'gyro_z_mean', 'gyro_z_std', 'gyro_z_var', 'gyro_z_mad', 'gyro_xy_corr',\n",
       "       'gyro_xz_corr', 'gyro_yz_corr', 'gyro_sma', 'gyro_x_dom_freq',\n",
       "       'gyro_x_spec_energy', 'gyro_x_fft_top1_mag', 'gyro_x_fft_top1_freq',\n",
       "       'gyro_x_fft_top2_mag', 'gyro_x_fft_top2_freq', 'gyro_x_fft_top3_mag',\n",
       "       'gyro_x_fft_top3_freq', 'gyro_y_dom_freq', 'gyro_y_spec_energy',\n",
       "       'gyro_y_fft_top1_mag', 'gyro_y_fft_top1_freq', 'gyro_y_fft_top2_mag',\n",
       "       'gyro_y_fft_top2_freq', 'gyro_y_fft_top3_mag', 'gyro_y_fft_top3_freq',\n",
       "       'gyro_z_dom_freq', 'gyro_z_spec_energy', 'gyro_z_fft_top1_mag',\n",
       "       'gyro_z_fft_top1_freq', 'gyro_z_fft_top2_mag', 'gyro_z_fft_top2_freq',\n",
       "       'gyro_z_fft_top3_mag', 'gyro_z_fft_top3_freq', 'acc_res_mean',\n",
       "       'acc_res_std', 'acc_res_var', 'acc_res_sma', 'acc_res_dom_freq',\n",
       "       'acc_res_spec_energy', 'acc_res_fft_top1_mag', 'acc_res_fft_top1_freq',\n",
       "       'acc_res_fft_top2_mag', 'acc_res_fft_top2_freq', 'acc_res_fft_top3_mag',\n",
       "       'acc_res_fft_top3_freq', 'activity', 'start_time', 'session_id'],\n",
       "      dtype='object')"
      ]
     },
     "execution_count": 5,
     "metadata": {},
     "output_type": "execute_result"
    }
   ],
   "source": [
    "df.columns"
   ]
  },
  {
   "cell_type": "code",
   "execution_count": 6,
   "id": "b5125d32",
   "metadata": {},
   "outputs": [
    {
     "name": "stdout",
     "output_type": "stream",
     "text": [
      "Session ID: [ 0  1  2  3  4  5  6  7  8  9 10 11 12 13 14 15 16 17 18 19 20 21 22 23\n",
      " 24 25 26 27 28 29 30 31 32 33 34 35 36 37 38 39 40 41 42 43 44 45 46 47\n",
      " 48 49 50 51 52 53 54 55 56 57 58 59 60 61 62 63 64 65 66 67 68 69 70 71\n",
      " 72 73 74 75 76 77 78 79 80 81]\n"
     ]
    }
   ],
   "source": [
    "print(\"Session ID:\", df[\"session_id\"].unique())"
   ]
  },
  {
   "cell_type": "code",
   "execution_count": 7,
   "id": "3fb4e06b",
   "metadata": {},
   "outputs": [
    {
     "data": {
      "text/html": [
       "<div>\n",
       "<style scoped>\n",
       "    .dataframe tbody tr th:only-of-type {\n",
       "        vertical-align: middle;\n",
       "    }\n",
       "\n",
       "    .dataframe tbody tr th {\n",
       "        vertical-align: top;\n",
       "    }\n",
       "\n",
       "    .dataframe thead th {\n",
       "        text-align: right;\n",
       "    }\n",
       "</style>\n",
       "<table border=\"1\" class=\"dataframe\">\n",
       "  <thead>\n",
       "    <tr style=\"text-align: right;\">\n",
       "      <th></th>\n",
       "      <th>accel_x_mean</th>\n",
       "      <th>accel_x_std</th>\n",
       "      <th>accel_x_var</th>\n",
       "      <th>accel_x_mad</th>\n",
       "      <th>accel_y_mean</th>\n",
       "      <th>accel_y_std</th>\n",
       "      <th>accel_y_var</th>\n",
       "      <th>accel_y_mad</th>\n",
       "      <th>accel_z_mean</th>\n",
       "      <th>accel_z_std</th>\n",
       "      <th>...</th>\n",
       "      <th>acc_res_spec_energy</th>\n",
       "      <th>acc_res_fft_top1_mag</th>\n",
       "      <th>acc_res_fft_top1_freq</th>\n",
       "      <th>acc_res_fft_top2_mag</th>\n",
       "      <th>acc_res_fft_top2_freq</th>\n",
       "      <th>acc_res_fft_top3_mag</th>\n",
       "      <th>acc_res_fft_top3_freq</th>\n",
       "      <th>activity</th>\n",
       "      <th>start_time</th>\n",
       "      <th>session_id</th>\n",
       "    </tr>\n",
       "  </thead>\n",
       "  <tbody>\n",
       "    <tr>\n",
       "      <th>0</th>\n",
       "      <td>-0.325147</td>\n",
       "      <td>1.005483</td>\n",
       "      <td>1.010997</td>\n",
       "      <td>0.715388</td>\n",
       "      <td>-0.125287</td>\n",
       "      <td>1.950710</td>\n",
       "      <td>3.805271</td>\n",
       "      <td>1.288558</td>\n",
       "      <td>-0.052421</td>\n",
       "      <td>7.376959</td>\n",
       "      <td>...</td>\n",
       "      <td>50.754583</td>\n",
       "      <td>248.492811</td>\n",
       "      <td>0.781250</td>\n",
       "      <td>224.096697</td>\n",
       "      <td>0.390625</td>\n",
       "      <td>147.161871</td>\n",
       "      <td>3.906250</td>\n",
       "      <td>jumping</td>\n",
       "      <td>1.761134e+09</td>\n",
       "      <td>0</td>\n",
       "    </tr>\n",
       "    <tr>\n",
       "      <th>1</th>\n",
       "      <td>-0.333427</td>\n",
       "      <td>1.212630</td>\n",
       "      <td>1.470472</td>\n",
       "      <td>0.896227</td>\n",
       "      <td>-0.036922</td>\n",
       "      <td>2.340061</td>\n",
       "      <td>5.475887</td>\n",
       "      <td>1.697479</td>\n",
       "      <td>0.170994</td>\n",
       "      <td>8.711320</td>\n",
       "      <td>...</td>\n",
       "      <td>65.812950</td>\n",
       "      <td>183.212361</td>\n",
       "      <td>3.906250</td>\n",
       "      <td>164.318067</td>\n",
       "      <td>1.953125</td>\n",
       "      <td>137.923398</td>\n",
       "      <td>0.781250</td>\n",
       "      <td>jumping</td>\n",
       "      <td>1.761134e+09</td>\n",
       "      <td>1</td>\n",
       "    </tr>\n",
       "    <tr>\n",
       "      <th>2</th>\n",
       "      <td>-0.150583</td>\n",
       "      <td>1.298404</td>\n",
       "      <td>1.685853</td>\n",
       "      <td>0.915027</td>\n",
       "      <td>-0.092910</td>\n",
       "      <td>1.918203</td>\n",
       "      <td>3.679501</td>\n",
       "      <td>1.403808</td>\n",
       "      <td>-0.045061</td>\n",
       "      <td>8.365517</td>\n",
       "      <td>...</td>\n",
       "      <td>64.546681</td>\n",
       "      <td>193.348538</td>\n",
       "      <td>3.906250</td>\n",
       "      <td>176.854559</td>\n",
       "      <td>1.953125</td>\n",
       "      <td>164.362721</td>\n",
       "      <td>5.859375</td>\n",
       "      <td>jumping</td>\n",
       "      <td>1.761134e+09</td>\n",
       "      <td>1</td>\n",
       "    </tr>\n",
       "    <tr>\n",
       "      <th>3</th>\n",
       "      <td>-0.137955</td>\n",
       "      <td>1.175404</td>\n",
       "      <td>1.381574</td>\n",
       "      <td>0.768837</td>\n",
       "      <td>-0.245090</td>\n",
       "      <td>1.596382</td>\n",
       "      <td>2.548437</td>\n",
       "      <td>1.141766</td>\n",
       "      <td>0.054054</td>\n",
       "      <td>7.954364</td>\n",
       "      <td>...</td>\n",
       "      <td>58.464855</td>\n",
       "      <td>275.642796</td>\n",
       "      <td>0.781250</td>\n",
       "      <td>175.347922</td>\n",
       "      <td>3.906250</td>\n",
       "      <td>158.849126</td>\n",
       "      <td>0.390625</td>\n",
       "      <td>jumping</td>\n",
       "      <td>1.761134e+09</td>\n",
       "      <td>1</td>\n",
       "    </tr>\n",
       "    <tr>\n",
       "      <th>4</th>\n",
       "      <td>-0.134741</td>\n",
       "      <td>0.959452</td>\n",
       "      <td>0.920549</td>\n",
       "      <td>0.607052</td>\n",
       "      <td>-0.155564</td>\n",
       "      <td>1.428992</td>\n",
       "      <td>2.042019</td>\n",
       "      <td>0.890355</td>\n",
       "      <td>0.201396</td>\n",
       "      <td>6.758013</td>\n",
       "      <td>...</td>\n",
       "      <td>41.634446</td>\n",
       "      <td>379.684283</td>\n",
       "      <td>0.390625</td>\n",
       "      <td>128.718180</td>\n",
       "      <td>3.906250</td>\n",
       "      <td>118.783268</td>\n",
       "      <td>3.515625</td>\n",
       "      <td>jumping</td>\n",
       "      <td>1.761134e+09</td>\n",
       "      <td>1</td>\n",
       "    </tr>\n",
       "  </tbody>\n",
       "</table>\n",
       "<p>5 rows × 95 columns</p>\n",
       "</div>"
      ],
      "text/plain": [
       "   accel_x_mean  accel_x_std  accel_x_var  accel_x_mad  accel_y_mean  \\\n",
       "0     -0.325147     1.005483     1.010997     0.715388     -0.125287   \n",
       "1     -0.333427     1.212630     1.470472     0.896227     -0.036922   \n",
       "2     -0.150583     1.298404     1.685853     0.915027     -0.092910   \n",
       "3     -0.137955     1.175404     1.381574     0.768837     -0.245090   \n",
       "4     -0.134741     0.959452     0.920549     0.607052     -0.155564   \n",
       "\n",
       "   accel_y_std  accel_y_var  accel_y_mad  accel_z_mean  accel_z_std  ...  \\\n",
       "0     1.950710     3.805271     1.288558     -0.052421     7.376959  ...   \n",
       "1     2.340061     5.475887     1.697479      0.170994     8.711320  ...   \n",
       "2     1.918203     3.679501     1.403808     -0.045061     8.365517  ...   \n",
       "3     1.596382     2.548437     1.141766      0.054054     7.954364  ...   \n",
       "4     1.428992     2.042019     0.890355      0.201396     6.758013  ...   \n",
       "\n",
       "   acc_res_spec_energy  acc_res_fft_top1_mag  acc_res_fft_top1_freq  \\\n",
       "0            50.754583            248.492811               0.781250   \n",
       "1            65.812950            183.212361               3.906250   \n",
       "2            64.546681            193.348538               3.906250   \n",
       "3            58.464855            275.642796               0.781250   \n",
       "4            41.634446            379.684283               0.390625   \n",
       "\n",
       "   acc_res_fft_top2_mag  acc_res_fft_top2_freq  acc_res_fft_top3_mag  \\\n",
       "0            224.096697               0.390625            147.161871   \n",
       "1            164.318067               1.953125            137.923398   \n",
       "2            176.854559               1.953125            164.362721   \n",
       "3            175.347922               3.906250            158.849126   \n",
       "4            128.718180               3.906250            118.783268   \n",
       "\n",
       "   acc_res_fft_top3_freq  activity    start_time  session_id  \n",
       "0               3.906250   jumping  1.761134e+09           0  \n",
       "1               0.781250   jumping  1.761134e+09           1  \n",
       "2               5.859375   jumping  1.761134e+09           1  \n",
       "3               0.390625   jumping  1.761134e+09           1  \n",
       "4               3.515625   jumping  1.761134e+09           1  \n",
       "\n",
       "[5 rows x 95 columns]"
      ]
     },
     "execution_count": 7,
     "metadata": {},
     "output_type": "execute_result"
    }
   ],
   "source": [
    "df.head()"
   ]
  },
  {
   "cell_type": "code",
   "execution_count": 8,
   "id": "3f689bc2",
   "metadata": {},
   "outputs": [
    {
     "name": "stdout",
     "output_type": "stream",
     "text": [
      "using D = 93 features\n",
      "['accel_x_mean', 'accel_x_std', 'accel_x_var', 'accel_x_mad', 'accel_y_mean', 'accel_y_std', 'accel_y_var', 'accel_y_mad', 'accel_z_mean', 'accel_z_std'] ...\n"
     ]
    }
   ],
   "source": [
    "feature_cols = [c for c in df.columns\n",
    "                if c not in {\"activity\", \"session_id\"} and pd.api.types.is_numeric_dtype(df[c])]\n",
    "print(\"using D =\", len(feature_cols), \"features\")\n",
    "print(feature_cols[:10], \"...\")\n"
   ]
  },
  {
   "cell_type": "code",
   "execution_count": 9,
   "id": "21a49eb4",
   "metadata": {},
   "outputs": [
    {
     "name": "stdout",
     "output_type": "stream",
     "text": [
      "n sessions total: 82 train: 65  test: 17\n",
      "train activity counts:\n",
      " activity\n",
      "walking     229\n",
      "standing    196\n",
      "still       196\n",
      "jumping     183\n",
      "Name: count, dtype: int64\n",
      "test activity counts:\n",
      " activity\n",
      "still       51\n",
      "jumping     44\n",
      "walking     37\n",
      "standing    12\n",
      "Name: count, dtype: int64\n"
     ]
    }
   ],
   "source": [
    "\n",
    "\n",
    "session_ids = df[\"session_id\"].unique()\n",
    "# random split 80/20\n",
    "train_sess, test_sess = train_test_split(session_ids, test_size=0.2, random_state=42)\n",
    "\n",
    "\n",
    "\n",
    "print(\"n sessions total:\", len(session_ids), \"train:\", len(train_sess), \" test:\", len(test_sess))\n",
    "train_df = df[df[\"session_id\"].isin(train_sess)].reset_index(drop=True)\n",
    "test_df  = df[df[\"session_id\"].isin(test_sess)].reset_index(drop=True)\n",
    "\n",
    "# ensure all activities present in train \n",
    "print(\"train activity counts:\\n\", train_df[\"activity\"].value_counts())\n",
    "print(\"test activity counts:\\n\", test_df[\"activity\"].value_counts())"
   ]
  },
  {
   "cell_type": "code",
   "execution_count": 10,
   "id": "35094bd4",
   "metadata": {},
   "outputs": [
    {
     "name": "stdout",
     "output_type": "stream",
     "text": [
      "label2idx: {'jumping': 0, 'standing': 1, 'still': 2, 'walking': 3}\n"
     ]
    }
   ],
   "source": [
    "def build_seqs_from_df(df_in, feature_cols, session_col=\"session_id\"):\n",
    "    seqs_X = []\n",
    "    seqs_y = []\n",
    "    for sid in df_in[session_col].drop_duplicates().tolist():\n",
    "        sub = df_in[df_in[session_col] == sid]\n",
    "        X = sub[feature_cols].to_numpy(dtype=float)\n",
    "        y = sub[\"activity\"].to_numpy()\n",
    "        if len(y) > 0:\n",
    "            seqs_X.append(X)\n",
    "            seqs_y.append(y)\n",
    "    return seqs_X, seqs_y\n",
    "\n",
    "X_train_seqs, y_train_seqs = build_seqs_from_df(train_df, feature_cols, session_col=\"session_id\")\n",
    "X_test_seqs,  y_test_seqs  = build_seqs_from_df(test_df,  feature_cols, session_col=\"session_id\")\n",
    "\n",
    "# encode labels (consistent mapping)\n",
    "unique_labels = []\n",
    "for y in y_train_seqs + y_test_seqs:\n",
    "    for v in y:\n",
    "        if v not in unique_labels:\n",
    "            unique_labels.append(v)\n",
    "label2idx = {lab:i for i,lab in enumerate(unique_labels)}\n",
    "idx2label = {i:lab for lab,i in label2idx.items()}\n",
    "print(\"label2idx:\", label2idx)\n",
    "\n",
    "y_train_enc = [np.array([label2idx[v] for v in seq], dtype=int) for seq in y_train_seqs]\n",
    "y_test_enc  = [np.array([label2idx.get(v, -1) for v in seq], dtype=int) for seq in y_test_seqs]\n",
    "# (should not contain -1 unless a label appears in test only)"
   ]
  },
  {
   "cell_type": "code",
   "execution_count": 12,
   "id": "f7ef9931",
   "metadata": {},
   "outputs": [],
   "source": [
    "scaler = StandardScaler()\n",
    "all_X_train = np.vstack(X_train_seqs)\n",
    "scaler.fit(all_X_train)\n",
    "X_train_scaled = [scaler.transform(X) for X in X_train_seqs]\n",
    "X_test_scaled  = [scaler.transform(X) for X in X_test_seqs]"
   ]
  },
  {
   "cell_type": "code",
   "execution_count": null,
   "id": "7c2689b9",
   "metadata": {},
   "outputs": [
    {
     "name": "stdout",
     "output_type": "stream",
     "text": [
      "pi: [0.2        0.27692308 0.21538462 0.30769231]\n",
      "A:\n",
      " [[9.94117647e-01 5.88235300e-03 5.88235294e-11 5.88235294e-11]\n",
      " [5.58659218e-11 9.88826815e-01 1.11731844e-02 5.58659218e-11]\n",
      " [5.52486188e-11 5.52486188e-11 9.94475138e-01 5.52486193e-03]\n",
      " [4.78468904e-03 4.78468899e-11 4.78468899e-11 9.95215311e-01]]\n"
     ]
    }
   ],
   "source": [
    "\n",
    "def fit_supervised_hmm(X_seqs, y_seqs, n_states, reg=1e-6):\n",
    "    pi_counts = np.zeros(n_states)\n",
    "    for y in y_seqs:\n",
    "        pi_counts[y[0]] += 1\n",
    "    pi = (pi_counts + 1e-8) / (pi_counts.sum() + 1e-8)\n",
    "    A_counts = np.zeros((n_states, n_states))\n",
    "    for y in y_seqs:\n",
    "        for t in range(len(y)-1):\n",
    "            A_counts[y[t], y[t+1]] += 1\n",
    "    A = (A_counts + 1e-8)\n",
    "    row_sums = A.sum(axis=1, keepdims=True)\n",
    "    zero_rows = (row_sums.flatten() == 0)\n",
    "    if zero_rows.any():\n",
    "        A[zero_rows] = 1.0 / n_states\n",
    "        row_sums = A.sum(axis=1, keepdims=True)\n",
    "    A = A / row_sums\n",
    "    D = X_seqs[0].shape[1]\n",
    "    means = np.zeros((n_states, D))\n",
    "    covs  = np.zeros((n_states, D, D))\n",
    "    accum = {s: [] for s in range(n_states)}\n",
    "    for X,y in zip(X_seqs, y_seqs):\n",
    "        for xi, yi in zip(X,y):\n",
    "            accum[yi].append(xi)\n",
    "    for s in range(n_states):\n",
    "        if len(accum[s]) == 0:\n",
    "            means[s] = np.zeros(D)\n",
    "            covs[s]  = np.eye(D) * (1.0 + reg)\n",
    "        else:\n",
    "            arr = np.vstack(accum[s])\n",
    "            means[s] = arr.mean(axis=0)\n",
    "            cov = np.cov(arr, rowvar=False)\n",
    "            if cov.ndim == 0:\n",
    "                cov = cov.reshape((1,1))\n",
    "            cov += np.eye(D) * reg\n",
    "            covs[s] = cov\n",
    "    return pi, A, means, covs\n",
    "\n",
    "def log_emission(X, means, covs):\n",
    "    T = X.shape[0]\n",
    "    S = means.shape[0]\n",
    "    ll = np.zeros((T, S))\n",
    "    for s in range(S):\n",
    "        rv = multivariate_normal(mean=means[s], cov=covs[s], allow_singular=True)\n",
    "        ll[:, s] = rv.logpdf(X)\n",
    "    return ll\n",
    "\n",
    "def viterbi(X, pi, A, means, covs):\n",
    "    T = X.shape[0]\n",
    "    S = pi.shape[0]\n",
    "    logpi = np.log(pi + 1e-12)\n",
    "    logA = np.log(A + 1e-12)\n",
    "    logB = log_emission(X, means, covs)\n",
    "    dp = np.full((T, S), -np.inf)\n",
    "    ptr = np.zeros((T, S), dtype=int)\n",
    "    dp[0] = logpi + logB[0]\n",
    "    for t in range(1, T):\n",
    "        for s in range(S):\n",
    "            vals = dp[t-1] + logA[:, s]\n",
    "            k = np.argmax(vals)\n",
    "            dp[t, s] = vals[k] + logB[t, s]\n",
    "            ptr[t, s] = k\n",
    "    path = np.zeros(T, dtype=int)\n",
    "    path[-1] = np.argmax(dp[-1])\n",
    "    for t in range(T-2, -1, -1):\n",
    "        path[t] = ptr[t+1, path[t+1]]\n",
    "    return path\n",
    "\n",
    "n_states = len(label2idx)\n",
    "pi, A, means, covs = fit_supervised_hmm(X_train_scaled, y_train_enc, n_states)\n",
    "print(\"pi:\", pi)\n",
    "print(\"A:\\n\", A)\n",
    "\n",
    "# decode test sequences\n",
    "y_test_pred_enc = [viterbi(X, pi, A, means, covs) for X in X_test_scaled]\n",
    "# optional: also decode train to inspect training fit\n",
    "y_train_pred_enc = [viterbi(X, pi, A, means, covs) for X in X_train_scaled]"
   ]
  },
  {
   "cell_type": "code",
   "execution_count": 15,
   "id": "f59a9929",
   "metadata": {},
   "outputs": [
    {
     "name": "stdout",
     "output_type": "stream",
     "text": [
      "Confusion matrix:\n",
      " [[22  2 19  1]\n",
      " [ 0  0 12  0]\n",
      " [ 0  0 49  2]\n",
      " [ 0  0  0 37]]\n",
      "\n",
      "Deliverable table (State, Number of Samples, Sensitivity, Specificity):\n",
      "jumping, 44, 0.500, 1.000\n",
      "standing, 12, 0.000, 0.985\n",
      "still, 51, 0.961, 0.667\n",
      "walking, 37, 1.000, 0.972\n",
      "\n",
      "Overall accuracy: 0.75\n"
     ]
    }
   ],
   "source": [
    "# F: evaluate on test (unseen sessions) and print table per requested format\n",
    "import numpy as np\n",
    "from sklearn.metrics import confusion_matrix\n",
    "\n",
    "# flatten\n",
    "y_test_true_flat = np.concatenate(y_test_enc)\n",
    "y_test_pred_flat = np.concatenate(y_test_pred_enc)\n",
    "\n",
    "cm = confusion_matrix(y_test_true_flat, y_test_pred_flat, labels=list(range(n_states)))\n",
    "TP = np.diag(cm).astype(float)\n",
    "FN = cm.sum(axis=1) - TP\n",
    "FP = cm.sum(axis=0) - TP\n",
    "TN = cm.sum() - (TP + FN + FP)\n",
    "with np.errstate(divide='ignore', invalid='ignore'):\n",
    "    sensitivity = np.where((TP + FN) > 0, TP / (TP + FN), np.nan)\n",
    "    specificity = np.where((TN + FP) > 0, TN / (TN + FP), np.nan)\n",
    "overall_accuracy = TP.sum() / cm.sum() if cm.sum() > 0 else np.nan\n",
    "\n",
    "print(\"Confusion matrix:\\n\", cm)\n",
    "print(\"\\nDeliverable table (State, Number of Samples, Sensitivity, Specificity):\")\n",
    "for s in range(n_states):\n",
    "    print(f\"{idx2label[s]}, {int((y_test_true_flat==s).sum())}, {sensitivity[s]:.3f}, {specificity[s]:.3f}\")\n",
    "print(\"\\nOverall accuracy:\", overall_accuracy)"
   ]
  },
  {
   "cell_type": "code",
   "execution_count": null,
   "id": "14cae2b8",
   "metadata": {},
   "outputs": [
    {
     "data": {
      "image/png": "[encoded data removed]",
      "text/plain": [
       "<Figure size 500x400 with 2 Axes>"
      ]
     },
     "metadata": {},
     "output_type": "display_data"
    },
    {
     "data": {
      "image/png": "[encoded data removed]",
      "text/plain": [
       "<Figure size 1200x200 with 1 Axes>"
      ]
     },
     "metadata": {},
     "output_type": "display_data"
    }
   ],
   "source": [
    "# G: visualizations\n",
    "import matplotlib.pyplot as plt\n",
    "import seaborn as sns\n",
    "sns.set()\n",
    "\n",
    "# transition matrix heatmap\n",
    "plt.figure(figsize=(5,4))\n",
    "labels = [idx2label[i] for i in range(n_states)]\n",
    "sns.heatmap(A, annot=True, fmt=\".2f\", xticklabels=labels, yticklabels=labels, cmap=\"viridis\")\n",
    "plt.xlabel(\"to state\"); plt.ylabel(\"from state\"); plt.title(\"Transition matrix A\"); plt.show()\n",
    "\n",
    "# timeline for test (concatenate test sessions)\n",
    "true_cat = np.concatenate(y_test_enc)\n",
    "pred_cat = np.concatenate(y_test_pred_enc)\n",
    "plt.figure(figsize=(12,2))\n",
    "t = np.arange(len(true_cat))\n",
    "plt.step(t, true_cat, where='post', label='true')\n",
    "plt.step(t, pred_cat, where='post', label='pred', alpha=0.8)\n",
    "plt.yticks(list(range plt.legend(); plt.title(\"True vs Predicted timeline (test)\"); plt.show()"
   ]
  }
 ],
 "metadata": {
  "kernelspec": {
   "display_name": "venv (3.12.3)",
   "language": "python",
   "name": "python3"
  },
  "language_info": {
   "codemirror_mode": {
    "name": "ipython",
    "version": 3
   },
   "file_extension": ".py",
   "mimetype": "text/x-python",
   "name": "python",
   "nbconvert_exporter": "python",
   "pygments_lexer": "ipython3",
   "version": "3.12.3"
  }
 },
 "nbformat": 4,
 "nbformat_minor": 5
}
